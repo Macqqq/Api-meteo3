{
  "nbformat": 4,
  "nbformat_minor": 0,
  "metadata": {
    "colab": {
      "provenance": [],
      "authorship_tag": "ABX9TyO1ZF9P8E7J6HGq+MvuQAZg",
      "include_colab_link": true
    },
    "kernelspec": {
      "name": "python3",
      "display_name": "Python 3"
    },
    "language_info": {
      "name": "python"
    }
  },
  "cells": [
    {
      "cell_type": "markdown",
      "metadata": {
        "id": "view-in-github",
        "colab_type": "text"
      },
      "source": [
        "<a href=\"https://colab.research.google.com/github/Macqqq/Api-meteo3/blob/master/Calcul%20resistance%20simple%20%2B%20mixte.ipynb\" target=\"_parent\"><img src=\"https://colab.research.google.com/assets/colab-badge.svg\" alt=\"Open In Colab\"/></a>"
      ]
    },
    {
      "cell_type": "code",
      "execution_count": 10,
      "metadata": {
        "colab": {
          "base_uri": "https://localhost:8080/"
        },
        "id": "gP58BYFNdsbS",
        "outputId": "27e5f3de-a1aa-4914-c93c-1011686f8d4d"
      },
      "outputs": [
        {
          "output_type": "stream",
          "name": "stdout",
          "text": [
            "Entrez le type de connexion (serie, parallele ou mixte): mixte\n",
            "Combien de résistances y a-t-il dans votre montage mixte ? 5\n",
            "Entrez la valeur de la résistance 1 (en ohms): 200\n",
            "Entrez la valeur de la résistance 2 (en ohms): 350\n",
            "Cette résistance est-elle en série (S) ou en parallèle (P) avec la résistance précédente ? s\n",
            "Entrez la valeur de la résistance 3 (en ohms): 200\n",
            "Cette résistance est-elle en série (S) ou en parallèle (P) avec la résistance précédente ? p\n",
            "Entrez la valeur de la résistance 4 (en ohms): 400\n",
            "Cette résistance est-elle en série (S) ou en parallèle (P) avec la résistance précédente ? p\n",
            "Entrez la valeur de la résistance 5 (en ohms): 200\n",
            "Cette résistance est-elle en série (S) ou en parallèle (P) avec la résistance précédente ? s\n",
            "La résistance équivalente pour un montage en mixte est: 883.3333333333334 ohms\n"
          ]
        }
      ],
      "source": [
        "# Définition des fonctions pour calculer les résistances\n",
        "def calculer_resistance_serie(resistances):\n",
        "    return sum(resistances)\n",
        "\n",
        "def calculer_resistance_parallele(resistances):\n",
        "    somme_inverses = sum(1/r for r in resistances)\n",
        "    return 1 / somme_inverses\n",
        "\n",
        "# Cette fonction a été supprimée car nous allons créer une nouvelle logique pour le calcul mixte\n",
        "\n",
        "# Demande à l'utilisateur le type de connexion\n",
        "type_connexion = \"\"\n",
        "while type_connexion not in [\"serie\", \"parallele\", \"mixte\"]:\n",
        "    type_connexion = input(\"Entrez le type de connexion (serie, parallele ou mixte): \").lower()\n",
        "    if type_connexion not in [\"serie\", \"parallele\", \"mixte\"]:\n",
        "        print(\"Type de connexion invalide. Veuillez choisir 'serie', 'parallele' ou 'mixte'.\")\n",
        "\n",
        "# Demande à l'utilisateur le nombre de résistances et leurs valeurs\n",
        "nombre_resistances = 0\n",
        "resistances = []\n",
        "if type_connexion != \"mixte\":\n",
        "    # Même logique que précédemment pour série ou parallèle\n",
        "    while nombre_resistances <= 0:\n",
        "        try:\n",
        "            nombre_resistances = int(input(\"Entrez le nombre de résistances: \"))\n",
        "            if nombre_resistances <= 0:\n",
        "                print(\"Le nombre de résistances doit être positif.\")\n",
        "        except ValueError:\n",
        "            print(\"Veuillez entrer un nombre entier.\")\n",
        "\n",
        "    for i in range(nombre_resistances):\n",
        "        valeur_resistance = -1\n",
        "        while valeur_resistance <= 0:\n",
        "            try:\n",
        "                valeur_resistance = float(input(f\"Entrez la valeur de la résistance {i+1} (en ohms): \"))\n",
        "                if valeur_resistance <= 0:\n",
        "                    print(\"La valeur de la résistance doit être positive.\")\n",
        "                else:\n",
        "                    resistances.append(valeur_resistance)\n",
        "            except ValueError:\n",
        "                print(\"Veuillez entrer un nombre valide.\")\n",
        "else:\n",
        "    # Nouvelle logique pour un montage mixte\n",
        "    blocs_paralleles = []  # Liste pour stocker les résistances en parallèle\n",
        "    serie_en_cours = []    # Liste temporaire pour les résistances en série\n",
        "    while nombre_resistances <= 0:\n",
        "        try:\n",
        "            nombre_resistances = int(input(\"Combien de résistances y a-t-il dans votre montage mixte ? \"))\n",
        "            if nombre_resistances <= 0:\n",
        "                print(\"Le nombre de résistances doit être positif.\")\n",
        "        except ValueError:\n",
        "            print(\"Veuillez entrer un nombre entier.\")\n",
        "\n",
        "    for i in range(nombre_resistances):\n",
        "        valeur_resistance = float(input(f\"Entrez la valeur de la résistance {i+1} (en ohms): \"))\n",
        "        if i > 0:  # Pas de question pour la première résistance, elle est forcément en série\n",
        "            connexion = input(\"Cette résistance est-elle en série (S) ou en parallèle (P) avec la résistance précédente ? \").lower()\n",
        "            if connexion == 'p':\n",
        "                if serie_en_cours:\n",
        "                    # Calcul de la résistance équivalente pour la série en cours et réinitialisation de la liste\n",
        "                    resistances.append(sum(serie_en_cours))\n",
        "                    serie_en_cours = []\n",
        "                blocs_paralleles.append(valeur_resistance)\n",
        "            else:  # Connexion en série\n",
        "                if blocs_paralleles:\n",
        "                    # Calcul de la résistance équivalente pour les résistances en parallèle et ajout à la liste série\n",
        "                    resistances.append(calculer_resistance_parallele(blocs_paralleles))\n",
        "                    blocs_paralleles = []\n",
        "                serie_en_cours.append(valeur_resistance)\n",
        "        else:\n",
        "            serie_en_cours.append(valeur_resistance)\n",
        "\n",
        "    # À la fin, il faut vérifier s'il reste des résistances dans les listes temporaires et les traiter\n",
        "    if serie_en_cours:\n",
        "        resistances.append(sum(serie_en_cours))\n",
        "    if blocs_paralleles:\n",
        "        resistances.append(calculer_resistance_parallele(blocs_paralleles))\n",
        "\n",
        "# Calcul de la résistance équivalente en fonction du type de connexion\n",
        "resistance_equivalente = 0\n",
        "if type_connexion == \"serie\":\n",
        "    resistance_equivalente = calculer_resistance_serie(resistances)\n",
        "elif type_connexion == \"parallele\":\n",
        "    resistance_equivalente = calculer_resistance_parallele(resistances)\n",
        "elif type_connexion == \"mixte\":\n",
        "    resistance_equivalente = sum(resistances)  # Pour un montage mixte, la liste 'resistances' contient les résistances équivalentes des blocs série et parallèle\n",
        "\n",
        "# Affichage de la résistance équivalente\n",
        "print(f\"La résistance équivalente pour un montage en {type_connexion} est: {resistance_equivalente} ohms\")\n",
        "\n"
      ]
    }
  ]
}